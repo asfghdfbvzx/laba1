{
  "nbformat": 4,
  "nbformat_minor": 0,
  "metadata": {
    "colab": {
      "provenance": []
    },
    "kernelspec": {
      "name": "python3",
      "display_name": "Python 3"
    },
    "language_info": {
      "name": "python"
    }
  },
  "cells": [
    {
      "cell_type": "markdown",
      "source": [
        "<h1>Импорт библиотек"
      ],
      "metadata": {
        "id": "vC84e9kzyxPy"
      }
    },
    {
      "cell_type": "markdown",
      "source": [
        "# Подготовка doctest\n",
        "<p>Буду использовать для тестирования</p>"
      ],
      "metadata": {
        "id": "Ha7NhE79G2ao"
      }
    },
    {
      "cell_type": "code",
      "source": [
        "import doctest\n",
        "from IPython.core.magic import register_cell_magic\n",
        "\n",
        "# Магия ячейки для запуска doctest\n",
        "@register_cell_magic\n",
        "def doctest_magic(line, cell):\n",
        "    # Инициализируем код из ячейки\n",
        "    exec(cell, globals())\n",
        "\n",
        "    # Ищем все локальные объекты\n",
        "    local_vars = {}\n",
        "    exec(cell, globals(), local_vars)\n",
        "\n",
        "    # Проходим по всем объектам в локальных переменных и ищем docstring'и для тестирования\n",
        "    for name, obj in local_vars.items():\n",
        "        if callable(obj):  # Проверяем, объект является функцией или классом\n",
        "            print(f\"Running doctests for {name}...\\n\")\n",
        "            try:\n",
        "                doctest.run_docstring_examples(obj, globals(), name=name, verbose=True)\n",
        "            except Exception as e:\n",
        "                print(f\"Error running doctests for {name}: {e}\")"
      ],
      "metadata": {
        "id": "mZsi-JVl392Y"
      },
      "execution_count": 37,
      "outputs": []
    },
    {
      "cell_type": "code",
      "execution_count": 4,
      "metadata": {
        "id": "cgKeNegmQG5S"
      },
      "outputs": [],
      "source": [
        "import numpy as np\n",
        "import matplotlib.pyplot as plt"
      ]
    },
    {
      "cell_type": "markdown",
      "source": [
        "<h1>Задача 1. Дан набор из $p$ матриц размерностью $(n, n)$ и $p$ векторов размерностью $(n, 1)$, найти сумму произведений матриц на векторы. Написать тесты для кода"
      ],
      "metadata": {
        "id": "qFM9uVU2x4Ls"
      }
    },
    {
      "cell_type": "code",
      "source": [
        "%%doctest_magic\n",
        "def sum_prod(X, V):\n",
        "    '''\n",
        "    X - матрицы (n, n)\n",
        "    V - векторы (n, 1)\n",
        "    Гарантируется, что len(X) == len(V)\n",
        "    >>> sum_prod([np.array([[1, 0, 0], [0, 1, 0], [0, 0, 2]]), np.array([[2, 0, 0], [0, 7, 0], [0, 0, 4]])], [np.array([[6], [3], [1]]), np.array([[2], [1], [2]])])\n",
        "    [[10]\n",
        "     [10]\n",
        "     [10]]\n",
        "    '''\n",
        "    cnt = len(V)\n",
        "    result = np.NaN\n",
        "    for i in range(cnt):\n",
        "      matrix = np.dot(X[i], V[i])\n",
        "      if result is np.NaN:\n",
        "        result = matrix\n",
        "      else:\n",
        "        result = np.add(result, matrix)\n",
        "    print(result)\n",
        ""
      ],
      "metadata": {
        "id": "IAbUvEiYyWFF",
        "colab": {
          "base_uri": "https://localhost:8080/"
        },
        "outputId": "0b28ee16-7756-4ea2-d1e6-65c37babb78c"
      },
      "execution_count": 47,
      "outputs": [
        {
          "output_type": "stream",
          "name": "stdout",
          "text": [
            "Running doctests for sum_prod...\n",
            "\n",
            "Finding tests in sum_prod\n",
            "Trying:\n",
            "    sum_prod([np.array([[1, 0, 0], [0, 1, 0], [0, 0, 2]]), np.array([[2, 0, 0], [0, 7, 0], [0, 0, 4]])], [np.array([[6], [3], [1]]), np.array([[2], [1], [2]])])\n",
            "Expecting:\n",
            "    [[10]\n",
            "     [10]\n",
            "     [10]]\n",
            "ok\n"
          ]
        }
      ]
    },
    {
      "cell_type": "markdown",
      "source": [
        "<h1>Задача 2. Дана матрица M, напишите функцию, которая бинаризует матрицу по некоторому threshold (то есть, все значения большие threshold становятся равными 1, иначе 0). Напишите тесты для кода"
      ],
      "metadata": {
        "id": "TKwPG4fIy2w4"
      }
    },
    {
      "cell_type": "code",
      "source": [
        "%%doctest_magic\n",
        "def binarize(M, threshold=0.5):\n",
        "  \"\"\"\n",
        "  >>> binarize(np.array([[1, 0, 0], [0, 1, 0], [0, 0, 2]]), threshold=0.5)\n",
        "  [[1 0 0]\n",
        "   [0 1 0]\n",
        "   [0 0 1]]\n",
        "  \"\"\"\n",
        "  result = M.copy()\n",
        "  for i in range(len(M)):\n",
        "    for j in range(len(M[0])):\n",
        "      result[i][j] = 1 if M[i][j] > threshold else 0\n",
        "  print(result)"
      ],
      "metadata": {
        "id": "KQDNMgsjRNH7",
        "colab": {
          "base_uri": "https://localhost:8080/"
        },
        "outputId": "549e0b95-a5fe-4246-e8ce-6be7810179f0"
      },
      "execution_count": 51,
      "outputs": [
        {
          "output_type": "stream",
          "name": "stdout",
          "text": [
            "Running doctests for binarize...\n",
            "\n",
            "Finding tests in binarize\n",
            "Trying:\n",
            "    binarize(np.array([[1, 0, 0], [0, 1, 0], [0, 0, 2]]), threshold=0.5)\n",
            "Expecting:\n",
            "    [[1 0 0]\n",
            "     [0 1 0]\n",
            "     [0 0 1]]\n",
            "ok\n"
          ]
        }
      ]
    },
    {
      "cell_type": "markdown",
      "source": [
        "<h1>Задача 3. Напишите функцию, которая возвращает уникальные элементы из каждой строки матрицы. Напишите такую же функцию, но для столбцов. Напишите тесты для кода"
      ],
      "metadata": {
        "id": "IY5L-h-7zWhN"
      }
    },
    {
      "cell_type": "code",
      "source": [
        "%%doctest_magic\n",
        "def unique_rows(mat):\n",
        "  \"\"\"\n",
        "  >>> unique_rows(np.array([[1, 0, 0], [0, 6, 0], [0, 7, 2]]))\n",
        "  [0 1]\n",
        "  [0 6]\n",
        "  [0 2 7]\n",
        "  \"\"\"\n",
        "  n = len(mat)\n",
        "  for i in range(n):\n",
        "    print(np.unique(mat[i]))\n",
        "\n",
        "\n",
        "def unique_columns(mat):\n",
        "  \"\"\"\n",
        "  >>> unique_columns(np.array([[1, 0, 0], [0, 6, 0], [0, 7, 2]]))\n",
        "  [0 1]\n",
        "  [0 6 7]\n",
        "  [0 2]\n",
        "  \"\"\"\n",
        "  rows_cnt = len(mat)\n",
        "  columns_cnt = len(mat[0])\n",
        "  for i in range(rows_cnt):\n",
        "    print(np.unique([mat[j][i] for j in range(columns_cnt)]))\n",
        "    # Your code goes here\n",
        "    pass"
      ],
      "metadata": {
        "id": "-8dEZhR0SBC-",
        "colab": {
          "base_uri": "https://localhost:8080/"
        },
        "outputId": "703030bb-22a6-44ef-9c64-00f279126999"
      },
      "execution_count": 66,
      "outputs": [
        {
          "output_type": "stream",
          "name": "stdout",
          "text": [
            "Running doctests for unique_rows...\n",
            "\n",
            "Finding tests in unique_rows\n",
            "Trying:\n",
            "    unique_rows(np.array([[1, 0, 0], [0, 6, 0], [0, 7, 2]]))\n",
            "Expecting:\n",
            "    [0 1]\n",
            "    [0 6]\n",
            "    [0 2 7]\n",
            "ok\n",
            "Running doctests for unique_columns...\n",
            "\n",
            "Finding tests in unique_columns\n",
            "Trying:\n",
            "    unique_columns(np.array([[1, 0, 0], [0, 6, 0], [0, 7, 2]]))\n",
            "Expecting:\n",
            "    [0 1]\n",
            "    [0 6 7]\n",
            "    [0 2]\n",
            "ok\n"
          ]
        }
      ]
    },
    {
      "cell_type": "markdown",
      "source": [
        "<h1>Задача 4. Напишите функцию, которая заполняет матрицу с размерами $(m, n)$ случайными числами, распределенными по нормальному закону. Затем считает мат. ожидание и дисперсию для каждого из столбцов и строк, а также строит для каждой строки и столбца гистограмму значений (использовать функцию hist из модуля matplotlib.plot)"
      ],
      "metadata": {
        "id": "roYAlo4Jz-lH"
      }
    },
    {
      "cell_type": "code",
      "source": [
        "# Your code goes here\n",
        "def print_rows(mat, m):\n",
        "  for i in range(m):\n",
        "    _, ax = plt.subplots()\n",
        "    mean = mat[i].mean()\n",
        "    print(f'мат. ожидание - {mean}, срока номер {i + 1}')\n",
        "    variance = mat[i].var()\n",
        "    print(f'дисперсия - {variance}, срока номер {i + 1}')\n",
        "    ax.hist(mat[i])\n",
        "    ax.set_title(f'строка номер {i + 1}')\n",
        "\n",
        "def print_columns(mat, m, n):\n",
        "  for i in range(n):\n",
        "    _, ax = plt.subplots()\n",
        "    mat_columns = np.array([mat[j][i] for j in range(m)])\n",
        "    mean = mat_columns.mean()\n",
        "    print(f'мат. ожидание - {mean}, колонка номер {i + 1}')\n",
        "    variance = mat_columns.var()\n",
        "    print(f'дисперсия - {variance}, колонка номер {i + 1}')\n",
        "    ax.hist(mat_columns)\n",
        "    ax.set_title(f'колонка номер {i + 1}')\n",
        "\n",
        "def normal_distribution_func(m, n):\n",
        "  mat = np.random.normal(150, 10, (m, n))\n",
        "  print_rows(mat, m)\n",
        "  print_columns(mat, m, n)"
      ],
      "metadata": {
        "id": "nZK_71hMSQzv"
      },
      "execution_count": 155,
      "outputs": []
    },
    {
      "cell_type": "code",
      "source": [
        "normal_distribution_func(2, 2)"
      ],
      "metadata": {
        "colab": {
          "base_uri": "https://localhost:8080/",
          "height": 1000
        },
        "id": "L0gggKC1nBKU",
        "outputId": "84062030-6bb4-4ecb-8427-97e0ae1e1a8e"
      },
      "execution_count": 156,
      "outputs": [
        {
          "output_type": "stream",
          "name": "stdout",
          "text": [
            "мат. ожидание - 8.95531581721501, срока номер 1\n",
            "дисперсия - 80.19768138606133, срока номер 1\n",
            "мат. ожидание - 2.901601785940258, срока номер 2\n",
            "дисперсия - 8.419292924171696, срока номер 2\n",
            "мат. ожидание - 146.706556126886, колонка номер 1\n",
            "дисперсия - 5.970832544805438, колонка номер 1\n",
            "мат. ожидание - 158.56347373004127, колонка номер 2\n",
            "дисперсия - 13.03343807136505, колонка номер 2\n"
          ]
        },
        {
          "output_type": "display_data",
          "data": {
            "text/plain": [
              "<Figure size 640x480 with 1 Axes>"
            ],
            "image/png": "[encoded data removed]"
          },
          "metadata": {}
        },
        {
          "output_type": "display_data",
          "data": {
            "text/plain": [
              "<Figure size 640x480 with 1 Axes>"
            ],
            "image/png": "[encoded data removed]"
          },
          "metadata": {}
        },
        {
          "output_type": "display_data",
          "data": {
            "text/plain": [
              "<Figure size 640x480 with 1 Axes>"
            ],
            "image/png": "[encoded data removed]"
          },
          "metadata": {}
        },
        {
          "output_type": "display_data",
          "data": {
            "text/plain": [
              "<Figure size 640x480 with 1 Axes>"
            ],
            "image/png": "[encoded data removed]"
          },
          "metadata": {}
        }
      ]
    },
    {
      "cell_type": "markdown",
      "source": [
        "<h1>Задача 5. Напишите функцию, которая заполняет матрицу $(m, n)$ в шахматном порядке заданными числами $a$ и $b$. Напишите тесты для кода"
      ],
      "metadata": {
        "id": "BDyATNdM0dJ2"
      }
    },
    {
      "cell_type": "code",
      "source": [
        "%%doctest_magic\n",
        "def chess(m, n, a, b):\n",
        "  \"\"\"\n",
        "  >>> chess(2, 2, 0, 1)\n",
        "  [[0. 1.]\n",
        "   [1. 0.]]\n",
        "  \"\"\"\n",
        "  mat = np.eye(m, n)\n",
        "  for i in range(m):\n",
        "    for j in range(n):\n",
        "      if (i + j) % 2 == 0:\n",
        "        mat[i][j] = a\n",
        "      else:\n",
        "        mat[i][j] = b\n",
        "  print(mat)"
      ],
      "metadata": {
        "id": "RWNJYWQGecS6",
        "colab": {
          "base_uri": "https://localhost:8080/"
        },
        "outputId": "22433e4b-9713-4023-cdd9-7891944c28ed"
      },
      "execution_count": 127,
      "outputs": [
        {
          "output_type": "stream",
          "name": "stdout",
          "text": [
            "Running doctests for chess...\n",
            "\n",
            "Finding tests in chess\n",
            "Trying:\n",
            "    chess(2, 2, 0, 1)\n",
            "Expecting:\n",
            "    [[0. 1.]\n",
            "     [1. 0.]]\n",
            "ok\n"
          ]
        }
      ]
    },
    {
      "cell_type": "markdown",
      "source": [
        "<h1>Задача 6. Напишите функцию, которая отрисовывает прямоугольник с заданными размерами (a, b) на изображении размера (m, n), цвет фона задайте в схеме RGB, как и цвет прямоугольника. Цвета также должны быть параметрами функции. Напишите аналогичную функцию но для овала с полуосями a и b. Напишите тесты для кода.\n",
        "Примечание: уравнение эллипса (границы овала) можно записать как:\n",
        "<h1>$\\frac{(x-x_0)^2}{a^2}+\\frac{(y-y_0)^2}{b^2}=1$"
      ],
      "metadata": {
        "id": "-ymXLtTN0vB6"
      }
    },
    {
      "cell_type": "code",
      "source": [
        "from matplotlib.patches import Ellipse"
      ],
      "metadata": {
        "id": "2dNDPvbjMjpr"
      },
      "execution_count": 148,
      "outputs": []
    },
    {
      "cell_type": "code",
      "source": [
        "def draw_rectangle(a, b, m, n, rectangle_color, background_color):\n",
        "  plt.figure(figsize=(m,n))\n",
        "  rect1=plt.Rectangle(xy = 0, width=a / m, height=b / n, color=rectangle_color)\n",
        "  fig = plt.gcf()\n",
        "  ax = fig.gca()\n",
        "  ax.add_patch(rect1)\n",
        "  ax.set_facecolor(background_color)\n",
        "  plt.show()\n",
        "\n",
        "def draw_ellipse(a, b, m, n, ellipse_color, background_color):\n",
        "  plt.figure(figsize=(m,n))\n",
        "  ellipse = Ellipse((0.5, 0.5), width=a / m, height=b / n, color=ellipse_color)\n",
        "  fig = plt.gcf()\n",
        "  ax = fig.gca()\n",
        "  ax.add_patch(ellipse)\n",
        "  ax.set_facecolor(background_color)\n",
        "  plt.show()"
      ],
      "metadata": {
        "id": "sNfl1t_kfOF4"
      },
      "execution_count": 154,
      "outputs": []
    },
    {
      "cell_type": "markdown",
      "source": [
        "<h1>Задача 7. Дан некий временной ряд. Для данного ряда нужно найти его: математическое ожидание, дисперсию, СКО, найти все локальные максимумы и минимумы (локальный максимум - это точка, которая больше своих соседних точек, а локальный минимум - это точка, которая меньше своих соседей), а также вычислить для данного ряда другой ряд, получаемый методом скользящего среднего с размером окна $p$.\n",
        "<h1>Примечание: метод скользящего среднего подразумевает нахождение среднего из подмножетсва ряда размером $p$"
      ],
      "metadata": {
        "id": "S82c38oz244H"
      }
    },
    {
      "cell_type": "code",
      "source": [
        "# Your code goes here\n",
        "def func7(time_series, p):\n",
        "  mean = time_series.mean()\n",
        "  print(f'мат. ожидание - {mean}')\n",
        "  variance = time_series.var()\n",
        "  print(f'дисперсия - {variance}')\n",
        "  standard_deviation = time_series.std()\n",
        "  print(f'стандартное отклонение - {standard_deviation}')\n",
        "\n",
        "\n",
        "  #Можно использовать и словарь, через for i in time_series.keys()\n",
        "  l = len(time_series)\n",
        "  min = []\n",
        "  max = []\n",
        "  flag = time_series[0] - time_series[1] > 0\n",
        "  for i in range(l - 1):\n",
        "    if flag != time_series[i] - time_series[i + 1] > 0:\n",
        "      if time_series[i] - time_series[i + 1] == 0:\n",
        "        continue\n",
        "      else:\n",
        "        max.append(time_series[i]) if flag else min.append(time_series[i])\n",
        "        flag = time_series[i] - time_series[i + 1] > 0\n",
        "  print(f'лок макс {max}')\n",
        "  print(f'лок мин {min}')\n",
        "\n",
        "\n",
        "  print(f'Новый ряд - {[sum(time_series[i:i+p:1])/p for i in range(l-p)]}')"
      ],
      "metadata": {
        "id": "Zb9mIVge5MMt"
      },
      "execution_count": null,
      "outputs": []
    },
    {
      "cell_type": "markdown",
      "source": [
        "<h1> Задача 8. Дан некоторый вектор с целочисленными метками классов, напишите функцию, которая выполняет one-hot-encoding для данного вектора\n",
        "<h1> One-hot-encoding - представление, в котором на месте метки некоторого класса стоит 1, в остальных позициях стоит 0. Например для вектора [0, 2, 3, 0] one-hot-encoding выглядит как: [[1, 0, 0, 0], [0, 0, 1, 0], [0, 0, 0, 1], [1, 0, 0, 0]]"
      ],
      "metadata": {
        "id": "jPkylmOX5O9n"
      }
    },
    {
      "cell_type": "code",
      "source": [
        "# Your code goes here"
      ],
      "metadata": {
        "id": "Y-jlnZvw56lD"
      },
      "execution_count": null,
      "outputs": []
    }
  ]
}